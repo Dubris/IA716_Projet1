{
 "cells": [
  {
   "cell_type": "markdown",
   "id": "f24997e8-6ea4-4a05-8bb7-0dfcc763a75e",
   "metadata": {
    "execution": {
     "iopub.execute_input": "2022-02-22T21:54:41.792972Z",
     "iopub.status.busy": "2022-02-22T21:54:41.792699Z",
     "iopub.status.idle": "2022-02-22T21:54:41.803300Z",
     "shell.execute_reply": "2022-02-22T21:54:41.802129Z",
     "shell.execute_reply.started": "2022-02-22T21:54:41.792948Z"
    },
    "tags": []
   },
   "source": [
    "<div class=\"row\">\n",
    "  <div class=\"col-sm-8\">\n",
    "     <center>\n",
    "        <h1>\n",
    "        <img src=\"https://s3-eu-west-1.amazonaws.com/assets.atout-on-line.com/images/ingenieur/Fiches_Ecoles/telecom_paristech.jpg\" alt=\"drawing\" width=\"200\"/>\n",
    "            <br><br>\n",
    "        IA 716 - Computer Vision<br>\n",
    "        Projet 1\n",
    "        <hr class=\"bg-light\" />\n",
    "            <i>Alexandre LE BRIS<br></i>\n",
    "            <i>MS IA - 21/22<br></i>\n",
    "        </h1>\n",
    "    </center>\n",
    "  </div>\n",
    "          \n",
    "  </div>\n",
    "</div>"
   ]
  },
  {
   "cell_type": "markdown",
   "id": "4e1b9257-53ec-4762-8261-6b73c13f4a0f",
   "metadata": {},
   "source": [
    "***\n",
    "***"
   ]
  },
  {
   "cell_type": "markdown",
   "id": "a19a0655-7c04-4a34-a9f0-8925029b07a0",
   "metadata": {},
   "source": [
    "## Import packages"
   ]
  },
  {
   "cell_type": "code",
   "execution_count": 14,
   "id": "0a5e2ec5-d123-4f8e-8b27-62a89f64e775",
   "metadata": {
    "execution": {
     "iopub.execute_input": "2022-02-22T22:09:56.356633Z",
     "iopub.status.busy": "2022-02-22T22:09:56.356363Z",
     "iopub.status.idle": "2022-02-22T22:09:56.663160Z",
     "shell.execute_reply": "2022-02-22T22:09:56.662887Z",
     "shell.execute_reply.started": "2022-02-22T22:09:56.356609Z"
    },
    "tags": []
   },
   "outputs": [],
   "source": [
    "import numpy as np\n",
    "\n",
    "import matplotlib.pyplot as plt\n",
    "\n",
    "from torchvision.datasets import MNIST, SVHN\n",
    "from torchvision import transforms\n",
    "import torch\n",
    "from torch.utils.data import DataLoader"
   ]
  },
  {
   "cell_type": "markdown",
   "id": "f79ad7cf-2ea0-4eea-84c3-7e844aa1a842",
   "metadata": {},
   "source": [
    "## Import data"
   ]
  },
  {
   "cell_type": "code",
   "execution_count": 7,
   "id": "1e92dd57-f62d-434b-8102-e52cd1a2d1a9",
   "metadata": {
    "execution": {
     "iopub.execute_input": "2022-02-22T21:54:35.082619Z",
     "iopub.status.busy": "2022-02-22T21:54:35.082093Z",
     "iopub.status.idle": "2022-02-22T21:54:37.132161Z",
     "shell.execute_reply": "2022-02-22T21:54:37.131797Z",
     "shell.execute_reply.started": "2022-02-22T21:54:35.082560Z"
    },
    "tags": []
   },
   "outputs": [
    {
     "name": "stdout",
     "output_type": "stream",
     "text": [
      "Using downloaded and verified file: data/train_32x32.mat\n"
     ]
    }
   ],
   "source": [
    "def normalize(data_tensor):\n",
    "    \"\"\"re-scale image values to [-1, 1]\"\"\"\n",
    "    return (data_tensor / 255.0) * 2.0 - 1.0\n",
    "\n",
    "\n",
    "def tile_image(image):\n",
    "    \"\"\"duplicate along channel axis\"\"\"\n",
    "    return image.repeat(3, 1, 1)\n",
    "\n",
    "\n",
    "transform_list = [transforms.ToTensor(),\n",
    "                  transforms.Lambda(lambda x: normalize(x))]\n",
    "\n",
    "mnist_dataset = MNIST(root=\"data\", train=True, download=True,\n",
    "    transform=transforms.Compose(transform_list+[transforms.ToPILImage(),\n",
    "                                                 transforms.Resize(32),  # resize to [32,32]\n",
    "                                                 transforms.ToTensor(),\n",
    "                                                 transforms.Lambda(lambda x: tile_image(x))]))\n",
    "\n",
    "svhn_dataset = SVHN(root=\"data\", split=\"train\", download=True,\n",
    "                    transform=transforms.Compose(transform_list))"
   ]
  },
  {
   "cell_type": "code",
   "execution_count": 30,
   "id": "eebc55e2-02fa-4c49-9d24-a8e1658ab412",
   "metadata": {
    "execution": {
     "iopub.execute_input": "2022-02-22T22:21:53.383826Z",
     "iopub.status.busy": "2022-02-22T22:21:53.383330Z",
     "iopub.status.idle": "2022-02-22T22:21:53.479594Z",
     "shell.execute_reply": "2022-02-22T22:21:53.479290Z",
     "shell.execute_reply.started": "2022-02-22T22:21:53.383778Z"
    },
    "tags": []
   },
   "outputs": [
    {
     "data": {
      "image/png": "[encoded data removed]",
      "text/plain": [
       "<Figure size 864x720 with 2 Axes>"
      ]
     },
     "metadata": {
      "needs_background": "light"
     },
     "output_type": "display_data"
    }
   ],
   "source": [
    "N = 2\n",
    "fig, ax = plt.subplots(nrows=1, ncols=2, figsize=(12, 10))\n",
    "ax[0].imshow(mnist_dataset.data[N], cmap='binary')\n",
    "ax[1].imshow(svhn_dataset.data[N].transpose((1, 2, 0)))\n",
    "plt.show()"
   ]
  },
  {
   "cell_type": "code",
   "execution_count": null,
   "id": "72a2c396-7b83-4724-b121-f1c1e691083e",
   "metadata": {},
   "outputs": [],
   "source": []
  }
 ],
 "metadata": {
  "kernelspec": {
   "display_name": "Python 3.8.12 64-bit ('py38': conda)",
   "language": "python",
   "name": "python3812jvsc74a57bd0e340a0a01ab186b377b016c01aa7d5d1230eddf285ffed81230a024c78a4da64"
  },
  "language_info": {
   "codemirror_mode": {
    "name": "ipython",
    "version": 3
   },
   "file_extension": ".py",
   "mimetype": "text/x-python",
   "name": "python",
   "nbconvert_exporter": "python",
   "pygments_lexer": "ipython3",
   "version": "3.8.12"
  },
  "toc-autonumbering": true,
  "toc-showcode": false,
  "toc-showmarkdowntxt": false
 },
 "nbformat": 4,
 "nbformat_minor": 5
}
